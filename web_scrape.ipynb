{
 "cells": [
  {
   "cell_type": "code",
   "execution_count": null,
   "metadata": {},
   "outputs": [],
   "source": [
    "import requests\n",
    "import pandas as pd\n"
   ]
  },
  {
   "cell_type": "code",
   "execution_count": null,
   "metadata": {},
   "outputs": [],
   "source": [
    "\n",
    "# Base URL for the tournament's hole stats (replace with your specific tournament ID and round ID)\n",
    "base_url = \"https://www.pdga.com/api/v1/feat/stats/hole-stats-breakdown/122324129/\"\n",
    "\n",
    "# Number of holes in the course\n",
    "num_holes = 18\n",
    "\n",
    "# List to store data for all holes\n",
    "all_holes_stats = []\n",
    "\n",
    "for hole_num in range(1, num_holes + 1):\n",
    "    # Construct the full URL for the current hole\n",
    "    url = f\"{base_url}{hole_num}\"\n",
    "    \n",
    "    # Fetch the data\n",
    "    response = requests.get(url)\n",
    "    data = response.json()\n",
    "    \n",
    "    # Extract and store stats for each player in the current hole\n",
    "    for entry in data:\n",
    "        player_info = entry['liveScore']['liveResult']\n",
    "        breakdown = entry['breakdown']\n",
    "        \n",
    "        # Combine player info with breakdown and add hole number\n",
    "        player_stats = {\n",
    "            'Hole': hole_num,\n",
    "            'FirstName': player_info['firstName'],\n",
    "            'LastName': player_info['lastName'],\n",
    "            'PDGANum': player_info['pdgaNum'],\n",
    "            'Place': player_info['place'],\n",
    "            'TotalScore': player_info['total'],\n",
    "            'ToPar': player_info['toPar'],\n",
    "            'Driving': breakdown.get('driving', None),\n",
    "            'Scramble': breakdown.get('scramble', None),\n",
    "            'Green': breakdown.get('green', None),\n",
    "            'C1x': breakdown.get('c1x', 0),\n",
    "            'C1': breakdown.get('c1', 0),\n",
    "            'C2': breakdown.get('c2', 0),\n",
    "            'ThrowIn': breakdown.get('throwIn', 0),\n",
    "            'OB': breakdown.get('ob', 0),\n",
    "            'Hazard': breakdown.get('hazard', 0),\n",
    "            'MissedMando': breakdown.get('missedMando', 0),\n",
    "            'LostDisc': breakdown.get('lostDisc', 0),\n",
    "            'Penalty': breakdown.get('penalty', 0),\n",
    "            'HoleScore': breakdown.get('holeScore', None)\n",
    "        }\n",
    "        all_holes_stats.append(player_stats)"
   ]
  },
  {
   "cell_type": "code",
   "execution_count": null,
   "metadata": {},
   "outputs": [],
   "source": [
    "\n",
    "# Convert the list to a DataFrame\n",
    "df = pd.DataFrame(all_holes_stats)\n",
    "\n",
    "# Display the data\n",
    "print(df)\n"
   ]
  },
  {
   "cell_type": "code",
   "execution_count": null,
   "metadata": {},
   "outputs": [],
   "source": [
    "\n",
    "# Save to CSV for further analysis\n",
    "df.to_csv('tournament_hole_stats.csv', index=False)\n"
   ]
  },
  {
   "cell_type": "code",
   "execution_count": null,
   "metadata": {},
   "outputs": [],
   "source": [
    "import requests\n",
    "from bs4 import BeautifulSoup"
   ]
  },
  {
   "cell_type": "code",
   "execution_count": null,
   "metadata": {},
   "outputs": [],
   "source": [
    "# URL of the PDGA page listing the tournaments (tournament search page sorted for ES and M tournaments within the date range of this year)\n",
    "tournaments_url = 'https://www.pdga.com/tour/search?OfficialName=&td=&date_filter%5Bmin%5D%5Bdate%5D=2024-02-01&date_filter%5Bmax%5D%5Bdate%5D=2025-08-14&Tier%5B%5D=ES&Tier%5B%5D=M' \n"
   ]
  },
  {
   "cell_type": "code",
   "execution_count": null,
   "metadata": {},
   "outputs": [],
   "source": [
    "\n",
    "# Send a GET request to the page\n",
    "response = requests.get(tournaments_url)\n",
    "soup = BeautifulSoup(response.text, 'html.parser')\n"
   ]
  },
  {
   "cell_type": "code",
   "execution_count": null,
   "metadata": {},
   "outputs": [],
   "source": [
    "\n",
    "\n",
    "# Initialize a dictionary to store tournament names and IDs\n",
    "tournaments_dict = {}\n",
    "\n",
    "# Find the table containing the events\n",
    "table = soup.find('div', class_='table-container')\n"
   ]
  },
  {
   "cell_type": "code",
   "execution_count": null,
   "metadata": {},
   "outputs": [],
   "source": [
    "\n",
    "# If the table exists, proceed\n",
    "if table:\n",
    "    # Find all rows in the table body\n",
    "    rows = table.find('tbody').find_all('tr')\n",
    "\n",
    "    for row in rows:\n",
    "        # Find the cell with the tournament name\n",
    "        tournament_cell = row.find('td', class_='views-field-OfficialName')\n",
    "        \n",
    "        if tournament_cell:\n",
    "            # Extract the link and name\n",
    "            link = tournament_cell.find('a')\n",
    "            if link:\n",
    "                tournament_name = link.text.strip()\n",
    "                href = link['href']\n",
    "                tournament_id = href.split('/')[-1]\n",
    "                \n",
    "                # Add to dictionary\n",
    "                tournaments_dict[tournament_name] = tournament_id\n"
   ]
  },
  {
   "cell_type": "code",
   "execution_count": null,
   "metadata": {},
   "outputs": [],
   "source": [
    "\n",
    "# Print the resulting dictionary\n",
    "print(tournaments_dict)\n",
    "# use this dictionary in asyncio_run.py to find round ids"
   ]
  },
  {
   "cell_type": "code",
   "execution_count": null,
   "metadata": {},
   "outputs": [],
   "source": [
    "# round_ids captured by asyncio_run.py \n",
    "round_ids = {'78584': {1: '122299849'}, '77775': {1: '122287100', 2: '122287102', 3: '122287104'}, '77758': {1: '122301092', 2: '122301094', 3: '122301096', 4: '122314192'}, '77759': {1: '122288247', 2: '122288249', 3: '122288251'}, '77091': {}, '77760': {1: '122291884', 2: '122291886', 3: '122291888'}, '77761': {1: '122286664', 2: '122286666', 3: '122286668'}, '77762': {1: '122286804', 2: '122286806', 3: '122286808'}, '77099': {1: '122283440', 2: '122283442', 3: '122283444', 4: '122360073'}, '77763': {1: '122287578', 2: '122287580', 3: '122287582'}, '78193': {1: '122292625', 2: '122292627', 3: '122292629'}, '77764': {1: '122286793', 2: '122286794', 3: '122286795'}, '77765': {1: '122299697', 2: '122299699', 3: '122299701', 4: '122299703'}, '77766': {1: '122316840', 2: '122316842', 3: '122316844'}, '77093': {}, '77133': {}, '77094': {}, '78194': {1: '122292631', 2: '122292633', 3: '122292635'}, '78271': {1: '122312714', 2: '122312716', 3: '122312718'}, '78195': {1: '122292637', 2: '122292639', 3: '122292641'}, '77768': {1: '122301365', 2: '122301367', 3: '122301369'}, '78196': {1: '122292643', 2: '122292645', 3: '122292647'}, '77095': {}, '77750': {1: '122309308', 2: '122309309', 3: '122309310', 4: '122309312'}, '78197': {1: '122292649', 2: '122292651', 3: '122292653'}}"
   ]
  },
  {
   "cell_type": "code",
   "execution_count": null,
   "metadata": {},
   "outputs": [],
   "source": [
    "tournament_rounds = {}\n",
    "for tournament_name, tournament_id in tournaments_dict.items():\n",
    "    for tid, rounds in round_ids.items():\n",
    "        if tournament_id == tid:\n",
    "            tournament_rounds[tournament_name] = round_ids[tournament_id]\n",
    "\n",
    "print(tournament_rounds)"
   ]
  },
  {
   "cell_type": "code",
   "execution_count": null,
   "metadata": {},
   "outputs": [],
   "source": [
    "# Function to pull stats from each round with an associated round id\n",
    "# Not ready yet \n",
    "# def get_tournament_stats(tournament_ids):\n",
    "#     # Base URL for the tournament's hole stats (replace with your specific tournament ID and round ID)\n",
    "#     base_url = \"https://www.pdga.com/api/v1/feat/stats/hole-stats-breakdown/\"\n",
    "\n",
    "#     # Number of holes in the course\n",
    "#     num_holes = 18\n",
    "\n",
    "#     # List to store data for all holes\n",
    "#     all_holes_stats = []\n",
    "#     for \n",
    "#         for hole_num in range(1, num_holes + 1):\n",
    "#             # Construct the full URL for the current hole\n",
    "#             url = f\"{base_url}{hole_num}\"\n",
    "            \n",
    "#             # Fetch the data\n",
    "#             response = requests.get(url)\n",
    "#             data = response.json()\n",
    "            \n",
    "#             # Extract and store stats for each player in the current hole\n",
    "#             for entry in data:\n",
    "#                 player_info = entry['liveScore']['liveResult']\n",
    "#                 breakdown = entry['breakdown']\n",
    "                \n",
    "#                 # Combine player info with breakdown and add hole number\n",
    "#                 player_stats = {\n",
    "#                     'Hole': hole_num,\n",
    "#                     'FirstName': player_info['firstName'],\n",
    "#                     'LastName': player_info['lastName'],\n",
    "#                     'PDGANum': player_info['pdgaNum'],\n",
    "#                     'Place': player_info['place'],\n",
    "#                     'TotalScore': player_info['total'],\n",
    "#                     'ToPar': player_info['toPar'],\n",
    "#                     'Driving': breakdown.get('driving', None),\n",
    "#                     'Scramble': breakdown.get('scramble', None),\n",
    "#                     'Green': breakdown.get('green', None),\n",
    "#                     'C1x': breakdown.get('c1x', 0),\n",
    "#                     'C1': breakdown.get('c1', 0),\n",
    "#                     'C2': breakdown.get('c2', 0),\n",
    "#                     'ThrowIn': breakdown.get('throwIn', 0),\n",
    "#                     'OB': breakdown.get('ob', 0),\n",
    "#                     'Hazard': breakdown.get('hazard', 0),\n",
    "#                     'MissedMando': breakdown.get('missedMando', 0),\n",
    "#                     'LostDisc': breakdown.get('lostDisc', 0),\n",
    "#                     'Penalty': breakdown.get('penalty', 0),\n",
    "#                     'HoleScore': breakdown.get('holeScore', None)\n",
    "#                 }\n",
    "#                 all_holes_stats.append(player_stats)"
   ]
  },
  {
   "cell_type": "code",
   "execution_count": null,
   "metadata": {},
   "outputs": [],
   "source": [
    "\n",
    "# Function to calculate summary stats by round\n",
    "\n",
    "def summary_stats(round_df):\n",
    "    # Initialize summary statistics dictionary\n",
    "    summary_stats = {}\n",
    "\n",
    "    # Group by player\n",
    "    players = round_df.groupby(['FirstName', 'LastName', 'PDGANum'])\n",
    "\n",
    "    # Process each player\n",
    "    for player, data in players:\n",
    "        c1x_makes = data[(data['ThrowIn'] >= 11) & (data['ThrowIn'] <= 33)].shape[0]\n",
    "        c1x_attempts = data['C1x'].sum() + data['C1'].sum() - data[data['ThrowIn'] < 11].shape[0]\n",
    "        \n",
    "        c2_makes = data[(data['ThrowIn'] >= 34) & (data['ThrowIn'] <= 66)].shape[0]\n",
    "        c2_attempts = data['C2'].sum()\n",
    "        \n",
    "        parked_holes = data[data['Green'] == 'parked'].shape[0]\n",
    "        c1_driving_holes = data[(data['Green'] == 'parked') | (data['Green'] == 'c1')].shape[0]\n",
    "        c2_driving_holes = data[(data['Green'] == 'parked') | (data['Green'] == 'c1') | (data['Green'] == 'c2')].shape[0]\n",
    "        \n",
    "        total_holes = data.shape[0]\n",
    "        \n",
    "        average_throw_in_distance = data[data['ThrowIn'] > 0]['ThrowIn'].mean()\n",
    "        \n",
    "        summary_stats[player] = {\n",
    "            'C1x Putting %': (c1x_makes / c1x_attempts * 100) if c1x_attempts > 0 else None,\n",
    "            'C2 Putting %': (c2_makes / c2_attempts * 100) if c2_attempts > 0 else None,\n",
    "            'Parked %': (parked_holes / total_holes * 100) if total_holes > 0 else None,\n",
    "            'C1 Driving %': (c1_driving_holes / total_holes * 100) if total_holes > 0 else None,\n",
    "            'C2 Driving %': (c2_driving_holes / total_holes * 100) if total_holes > 0 else None,\n",
    "            'Average Throw-In Distance': average_throw_in_distance\n",
    "        }\n",
    "\n",
    "    # Convert to DataFrame\n",
    "    summary_df = pd.DataFrame.from_dict(summary_stats, orient='index')\n",
    "\n",
    "    return summary_df\n"
   ]
  },
  {
   "cell_type": "code",
   "execution_count": null,
   "metadata": {},
   "outputs": [],
   "source": [
    "# Test with a round\n",
    "\n",
    "# Base URL for the tournament's hole stats (replace with your specific tournament ID and round ID)\n",
    "base_url = \"https://www.pdga.com/api/v1/feat/stats/hole-stats-breakdown/122324129/\"\n",
    "\n",
    "# Number of holes in the course\n",
    "num_holes = 18\n",
    "\n",
    "# List to store data for all holes\n",
    "all_holes_stats = []\n",
    "\n",
    "for hole_num in range(1, num_holes + 1):\n",
    "    # Construct the full URL for the current hole\n",
    "    url = f\"{base_url}{hole_num}\"\n",
    "    \n",
    "    # Fetch the data\n",
    "    response = requests.get(url)\n",
    "    data = response.json()\n",
    "    \n",
    "    # Extract and store stats for each player in the current hole\n",
    "    for entry in data:\n",
    "        player_info = entry['liveScore']['liveResult']\n",
    "        breakdown = entry['breakdown']\n",
    "        \n",
    "        # Combine player info with breakdown and add hole number\n",
    "        player_stats = {\n",
    "            'Hole': hole_num,\n",
    "            'FirstName': player_info['firstName'],\n",
    "            'LastName': player_info['lastName'],\n",
    "            'PDGANum': player_info['pdgaNum'],\n",
    "            'Place': player_info['place'],\n",
    "            'TotalScore': player_info['total'],\n",
    "            'ToPar': player_info['toPar'],\n",
    "            'Driving': breakdown.get('driving', None),\n",
    "            'Scramble': breakdown.get('scramble', None),\n",
    "            'Green': breakdown.get('green', None),\n",
    "            'C1x': breakdown.get('c1x', 0),\n",
    "            'C1': breakdown.get('c1', 0),\n",
    "            'C2': breakdown.get('c2', 0),\n",
    "            'ThrowIn': breakdown.get('throwIn', 0),\n",
    "            'OB': breakdown.get('ob', 0),\n",
    "            'Hazard': breakdown.get('hazard', 0),\n",
    "            'MissedMando': breakdown.get('missedMando', 0),\n",
    "            'LostDisc': breakdown.get('lostDisc', 0),\n",
    "            'Penalty': breakdown.get('penalty', 0),\n",
    "            'HoleScore': breakdown.get('holeScore', None)\n",
    "        }\n",
    "        all_holes_stats.append(player_stats)"
   ]
  },
  {
   "cell_type": "code",
   "execution_count": null,
   "metadata": {},
   "outputs": [],
   "source": [
    "# Convert the list to a DataFrame\n",
    "df = pd.DataFrame(all_holes_stats)\n",
    "\n",
    "# Display the data\n",
    "print(df)"
   ]
  },
  {
   "cell_type": "code",
   "execution_count": null,
   "metadata": {},
   "outputs": [],
   "source": [
    "test_df = summary_stats(df)"
   ]
  },
  {
   "cell_type": "code",
   "execution_count": null,
   "metadata": {},
   "outputs": [],
   "source": [
    "print(test_df)"
   ]
  },
  {
   "cell_type": "code",
   "execution_count": null,
   "metadata": {},
   "outputs": [],
   "source": []
  }
 ],
 "metadata": {
  "kernelspec": {
   "display_name": "base",
   "language": "python",
   "name": "python3"
  },
  "language_info": {
   "codemirror_mode": {
    "name": "ipython",
    "version": 3
   },
   "file_extension": ".py",
   "mimetype": "text/x-python",
   "name": "python",
   "nbconvert_exporter": "python",
   "pygments_lexer": "ipython3",
   "version": "3.9.18"
  }
 },
 "nbformat": 4,
 "nbformat_minor": 2
}
